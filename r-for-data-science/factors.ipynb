{
 "cells": [
  {
   "cell_type": "code",
   "execution_count": 1,
   "metadata": {
    "scrolled": true
   },
   "outputs": [
    {
     "name": "stderr",
     "output_type": "stream",
     "text": [
      "── Attaching packages ─────────────────────────────────────── tidyverse 1.2.1 ──\n",
      "✔ ggplot2 2.2.1     ✔ purrr   0.2.4\n",
      "✔ tibble  1.4.1     ✔ dplyr   0.7.4\n",
      "✔ tidyr   0.7.2     ✔ stringr 1.2.0\n",
      "✔ readr   1.1.1     ✔ forcats 0.2.0\n",
      "── Conflicts ────────────────────────────────────────── tidyverse_conflicts() ──\n",
      "✖ dplyr::filter() masks stats::filter()\n",
      "✖ dplyr::lag()    masks stats::lag()\n"
     ]
    }
   ],
   "source": [
    "library(tidyverse)\n",
    "library(forcats)"
   ]
  },
  {
   "cell_type": "code",
   "execution_count": 2,
   "metadata": {},
   "outputs": [],
   "source": [
    "x1 <- c(\"Dec\", \"Apr\", \"Jan\", \"Mar\")"
   ]
  },
  {
   "cell_type": "code",
   "execution_count": 3,
   "metadata": {},
   "outputs": [],
   "source": [
    "x2 <- c(\"Dec\", \"Apr\", \"Jam\", \"Mar\")"
   ]
  },
  {
   "cell_type": "code",
   "execution_count": 6,
   "metadata": {},
   "outputs": [
    {
     "data": {
      "text/html": [
       "<ol class=list-inline>\n",
       "\t<li>'Apr'</li>\n",
       "\t<li>'Dec'</li>\n",
       "\t<li>'Jan'</li>\n",
       "\t<li>'Mar'</li>\n",
       "</ol>\n"
      ],
      "text/latex": [
       "\\begin{enumerate*}\n",
       "\\item 'Apr'\n",
       "\\item 'Dec'\n",
       "\\item 'Jan'\n",
       "\\item 'Mar'\n",
       "\\end{enumerate*}\n"
      ],
      "text/markdown": [
       "1. 'Apr'\n",
       "2. 'Dec'\n",
       "3. 'Jan'\n",
       "4. 'Mar'\n",
       "\n",
       "\n"
      ],
      "text/plain": [
       "[1] \"Apr\" \"Dec\" \"Jan\" \"Mar\""
      ]
     },
     "metadata": {},
     "output_type": "display_data"
    }
   ],
   "source": [
    "sort(x1)"
   ]
  },
  {
   "cell_type": "code",
   "execution_count": 7,
   "metadata": {},
   "outputs": [],
   "source": [
    "month_levels <- c(\n",
    "  \"Jan\", \"Feb\", \"Mar\", \"Apr\", \"May\", \"Jun\", \n",
    "  \"Jul\", \"Aug\", \"Sep\", \"Oct\", \"Nov\", \"Dec\"\n",
    ")"
   ]
  },
  {
   "cell_type": "code",
   "execution_count": 8,
   "metadata": {},
   "outputs": [],
   "source": [
    "y1 <- factor(x1, levels = month_levels)"
   ]
  },
  {
   "cell_type": "code",
   "execution_count": 9,
   "metadata": {},
   "outputs": [
    {
     "data": {
      "text/html": [
       "<ol class=list-inline>\n",
       "\t<li>Dec</li>\n",
       "\t<li>Apr</li>\n",
       "\t<li>Jan</li>\n",
       "\t<li>Mar</li>\n",
       "</ol>\n"
      ],
      "text/latex": [
       "\\begin{enumerate*}\n",
       "\\item Dec\n",
       "\\item Apr\n",
       "\\item Jan\n",
       "\\item Mar\n",
       "\\end{enumerate*}\n"
      ],
      "text/markdown": [
       "1. Dec\n",
       "2. Apr\n",
       "3. Jan\n",
       "4. Mar\n",
       "\n",
       "\n"
      ],
      "text/plain": [
       "[1] Dec Apr Jan Mar\n",
       "Levels: Jan Feb Mar Apr May Jun Jul Aug Sep Oct Nov Dec"
      ]
     },
     "metadata": {},
     "output_type": "display_data"
    }
   ],
   "source": [
    "y1"
   ]
  },
  {
   "cell_type": "code",
   "execution_count": 10,
   "metadata": {},
   "outputs": [
    {
     "data": {
      "text/html": [
       "<ol class=list-inline>\n",
       "\t<li>Jan</li>\n",
       "\t<li>Mar</li>\n",
       "\t<li>Apr</li>\n",
       "\t<li>Dec</li>\n",
       "</ol>\n"
      ],
      "text/latex": [
       "\\begin{enumerate*}\n",
       "\\item Jan\n",
       "\\item Mar\n",
       "\\item Apr\n",
       "\\item Dec\n",
       "\\end{enumerate*}\n"
      ],
      "text/markdown": [
       "1. Jan\n",
       "2. Mar\n",
       "3. Apr\n",
       "4. Dec\n",
       "\n",
       "\n"
      ],
      "text/plain": [
       "[1] Jan Mar Apr Dec\n",
       "Levels: Jan Feb Mar Apr May Jun Jul Aug Sep Oct Nov Dec"
      ]
     },
     "metadata": {},
     "output_type": "display_data"
    }
   ],
   "source": [
    "sort(y1)"
   ]
  },
  {
   "cell_type": "code",
   "execution_count": 12,
   "metadata": {},
   "outputs": [
    {
     "data": {
      "text/html": [
       "<ol class=list-inline>\n",
       "\t<li>Dec</li>\n",
       "\t<li>Apr</li>\n",
       "\t<li>&lt;NA&gt;</li>\n",
       "\t<li>Mar</li>\n",
       "</ol>\n"
      ],
      "text/latex": [
       "\\begin{enumerate*}\n",
       "\\item Dec\n",
       "\\item Apr\n",
       "\\item <NA>\n",
       "\\item Mar\n",
       "\\end{enumerate*}\n"
      ],
      "text/markdown": [
       "1. Dec\n",
       "2. Apr\n",
       "3. &lt;NA&gt;\n",
       "4. Mar\n",
       "\n",
       "\n"
      ],
      "text/plain": [
       "[1] Dec  Apr  <NA> Mar \n",
       "Levels: Jan Feb Mar Apr May Jun Jul Aug Sep Oct Nov Dec"
      ]
     },
     "metadata": {},
     "output_type": "display_data"
    }
   ],
   "source": [
    "(y2 <- factor(x2, levels = month_levels))"
   ]
  },
  {
   "cell_type": "code",
   "execution_count": 13,
   "metadata": {},
   "outputs": [
    {
     "data": {
      "text/html": [
       "<ol class=list-inline>\n",
       "\t<li>Mar</li>\n",
       "\t<li>Apr</li>\n",
       "\t<li>Dec</li>\n",
       "</ol>\n"
      ],
      "text/latex": [
       "\\begin{enumerate*}\n",
       "\\item Mar\n",
       "\\item Apr\n",
       "\\item Dec\n",
       "\\end{enumerate*}\n"
      ],
      "text/markdown": [
       "1. Mar\n",
       "2. Apr\n",
       "3. Dec\n",
       "\n",
       "\n"
      ],
      "text/plain": [
       "[1] Mar Apr Dec\n",
       "Levels: Jan Feb Mar Apr May Jun Jul Aug Sep Oct Nov Dec"
      ]
     },
     "metadata": {},
     "output_type": "display_data"
    }
   ],
   "source": [
    "sort(y2)"
   ]
  },
  {
   "cell_type": "code",
   "execution_count": 16,
   "metadata": {},
   "outputs": [
    {
     "data": {
      "text/html": [
       "<ol class=list-inline>\n",
       "\t<li>3</li>\n",
       "\t<li>4</li>\n",
       "\t<li>5</li>\n",
       "</ol>\n"
      ],
      "text/latex": [
       "\\begin{enumerate*}\n",
       "\\item 3\n",
       "\\item 4\n",
       "\\item 5\n",
       "\\end{enumerate*}\n"
      ],
      "text/markdown": [
       "1. 3\n",
       "2. 4\n",
       "3. 5\n",
       "\n",
       "\n"
      ],
      "text/plain": [
       "[1] 3 4 5"
      ]
     },
     "metadata": {},
     "output_type": "display_data"
    }
   ],
   "source": [
    "q <- c(1, 2, 3, 4, 5)\n",
    "p <- q > 2\n",
    "q[p]"
   ]
  },
  {
   "cell_type": "code",
   "execution_count": 17,
   "metadata": {},
   "outputs": [
    {
     "data": {
      "text/html": [
       "<table>\n",
       "<thead><tr><th scope=col>year</th><th scope=col>marital</th><th scope=col>age</th><th scope=col>race</th><th scope=col>rincome</th><th scope=col>partyid</th><th scope=col>relig</th><th scope=col>denom</th><th scope=col>tvhours</th></tr></thead>\n",
       "<tbody>\n",
       "\t<tr><td>2000              </td><td>Never married     </td><td>26                </td><td>White             </td><td>$8000 to 9999     </td><td>Ind,near rep      </td><td>Protestant        </td><td>Southern baptist  </td><td>12                </td></tr>\n",
       "\t<tr><td>2000              </td><td>Divorced          </td><td>48                </td><td>White             </td><td>$8000 to 9999     </td><td>Not str republican</td><td>Protestant        </td><td>Baptist-dk which  </td><td>NA                </td></tr>\n",
       "\t<tr><td>2000              </td><td>Widowed           </td><td>67                </td><td>White             </td><td>Not applicable    </td><td>Independent       </td><td>Protestant        </td><td>No denomination   </td><td> 2                </td></tr>\n",
       "\t<tr><td>2000              </td><td>Never married     </td><td>39                </td><td>White             </td><td>Not applicable    </td><td>Ind,near rep      </td><td>Orthodox-christian</td><td>Not applicable    </td><td> 4                </td></tr>\n",
       "\t<tr><td>2000              </td><td>Divorced          </td><td>25                </td><td>White             </td><td>Not applicable    </td><td>Not str democrat  </td><td>None              </td><td>Not applicable    </td><td> 1                </td></tr>\n",
       "\t<tr><td>2000              </td><td>Married           </td><td>25                </td><td>White             </td><td>$20000 - 24999    </td><td>Strong democrat   </td><td>Protestant        </td><td>Southern baptist  </td><td>NA                </td></tr>\n",
       "\t<tr><td>2000              </td><td>Never married     </td><td>36                </td><td>White             </td><td>$25000 or more    </td><td>Not str republican</td><td>Christian         </td><td>Not applicable    </td><td> 3                </td></tr>\n",
       "\t<tr><td>2000              </td><td>Divorced          </td><td>44                </td><td>White             </td><td>$7000 to 7999     </td><td>Ind,near dem      </td><td>Protestant        </td><td>Lutheran-mo synod </td><td>NA                </td></tr>\n",
       "\t<tr><td>2000              </td><td>Married           </td><td>44                </td><td>White             </td><td>$25000 or more    </td><td>Not str democrat  </td><td>Protestant        </td><td>Other             </td><td> 0                </td></tr>\n",
       "\t<tr><td>2000              </td><td>Married           </td><td>47                </td><td>White             </td><td>$25000 or more    </td><td>Strong republican </td><td>Protestant        </td><td>Southern baptist  </td><td> 3                </td></tr>\n",
       "\t<tr><td>2000              </td><td>Married           </td><td>53                </td><td>White             </td><td>$25000 or more    </td><td>Not str democrat  </td><td>Protestant        </td><td>Other             </td><td> 2                </td></tr>\n",
       "\t<tr><td>2000              </td><td>Married           </td><td>52                </td><td>White             </td><td>$25000 or more    </td><td>Ind,near rep      </td><td>None              </td><td>Not applicable    </td><td>NA                </td></tr>\n",
       "\t<tr><td>2000              </td><td>Married           </td><td>52                </td><td>White             </td><td>$25000 or more    </td><td>Strong democrat   </td><td>Protestant        </td><td>Southern baptist  </td><td> 1                </td></tr>\n",
       "\t<tr><td>2000              </td><td>Married           </td><td>51                </td><td>White             </td><td>$25000 or more    </td><td>Strong republican </td><td>Protestant        </td><td>United methodist  </td><td>NA                </td></tr>\n",
       "\t<tr><td>2000              </td><td>Divorced          </td><td>52                </td><td>White             </td><td>$25000 or more    </td><td>Ind,near dem      </td><td>None              </td><td>Not applicable    </td><td> 1                </td></tr>\n",
       "\t<tr><td>2000              </td><td>Married           </td><td>40                </td><td>Black             </td><td>$25000 or more    </td><td>Strong democrat   </td><td>Protestant        </td><td>Baptist-dk which  </td><td> 7                </td></tr>\n",
       "\t<tr><td>2000              </td><td>Widowed           </td><td>77                </td><td>White             </td><td>Not applicable    </td><td>Strong republican </td><td>Jewish            </td><td>Not applicable    </td><td>NA                </td></tr>\n",
       "\t<tr><td>2000              </td><td>Never married     </td><td>44                </td><td>White             </td><td>$25000 or more    </td><td>Independent       </td><td>None              </td><td>Not applicable    </td><td> 3                </td></tr>\n",
       "\t<tr><td>2000              </td><td>Married           </td><td>40                </td><td>White             </td><td>$10000 - 14999    </td><td>Not str democrat  </td><td>Catholic          </td><td>Not applicable    </td><td> 3                </td></tr>\n",
       "\t<tr><td>2000              </td><td>Married           </td><td>45                </td><td>Black             </td><td>Not applicable    </td><td>Independent       </td><td>Protestant        </td><td>United methodist  </td><td>NA                </td></tr>\n",
       "\t<tr><td>2000              </td><td>Married           </td><td>48                </td><td>White             </td><td>$25000 or more    </td><td>Ind,near dem      </td><td>Catholic          </td><td>Not applicable    </td><td> 1                </td></tr>\n",
       "\t<tr><td>2000              </td><td>Married           </td><td>49                </td><td>White             </td><td>Refused           </td><td>Strong republican </td><td>Protestant        </td><td>United methodist  </td><td> 2                </td></tr>\n",
       "\t<tr><td>2000              </td><td>Never married     </td><td>19                </td><td>White             </td><td>Not applicable    </td><td>Independent       </td><td>None              </td><td>Not applicable    </td><td> 2                </td></tr>\n",
       "\t<tr><td>2000              </td><td>Widowed           </td><td>54                </td><td>White             </td><td>$25000 or more    </td><td>Ind,near rep      </td><td>Christian         </td><td>Not applicable    </td><td> 1                </td></tr>\n",
       "\t<tr><td>2000              </td><td>Widowed           </td><td>82                </td><td>White             </td><td>Not applicable    </td><td>Not str democrat  </td><td>Protestant        </td><td>Other             </td><td> 3                </td></tr>\n",
       "\t<tr><td>2000              </td><td>Widowed           </td><td>83                </td><td>White             </td><td>Not applicable    </td><td>Strong democrat   </td><td>Protestant        </td><td>Episcopal         </td><td>NA                </td></tr>\n",
       "\t<tr><td>2000              </td><td>Widowed           </td><td>89                </td><td>White             </td><td>Not applicable    </td><td>Not str democrat  </td><td>Protestant        </td><td>Other lutheran    </td><td> 4                </td></tr>\n",
       "\t<tr><td>2000              </td><td>Widowed           </td><td>88                </td><td>White             </td><td>Not applicable    </td><td>Strong republican </td><td>Protestant        </td><td>Afr meth ep zion  </td><td>NA                </td></tr>\n",
       "\t<tr><td>2000              </td><td>Divorced          </td><td>72                </td><td>White             </td><td>Not applicable    </td><td>Strong democrat   </td><td>Protestant        </td><td>Southern baptist  </td><td> 7                </td></tr>\n",
       "\t<tr><td>2000              </td><td>Widowed           </td><td>82                </td><td>White             </td><td>Not applicable    </td><td>Independent       </td><td>Protestant        </td><td>Am bapt ch in usa </td><td>NA                </td></tr>\n",
       "\t<tr><td>⋮</td><td>⋮</td><td>⋮</td><td>⋮</td><td>⋮</td><td>⋮</td><td>⋮</td><td>⋮</td><td>⋮</td></tr>\n",
       "\t<tr><td>2014              </td><td>Divorced          </td><td>38                </td><td>White             </td><td>$3000 to 3999     </td><td>Not str republican</td><td>Protestant        </td><td>Other             </td><td> 1                </td></tr>\n",
       "\t<tr><td>2014              </td><td>Widowed           </td><td>46                </td><td>White             </td><td>$25000 or more    </td><td>Strong democrat   </td><td>None              </td><td>Not applicable    </td><td> 2                </td></tr>\n",
       "\t<tr><td>2014              </td><td>Married           </td><td>49                </td><td>White             </td><td>Not applicable    </td><td>Ind,near rep      </td><td>Protestant        </td><td>Other             </td><td> 6                </td></tr>\n",
       "\t<tr><td>2014              </td><td>Never married     </td><td>34                </td><td>White             </td><td>$25000 or more    </td><td>Independent       </td><td>Protestant        </td><td>United methodist  </td><td> 2                </td></tr>\n",
       "\t<tr><td>2014              </td><td>Married           </td><td>54                </td><td>White             </td><td>Not applicable    </td><td>Independent       </td><td>Protestant        </td><td>Other             </td><td>NA                </td></tr>\n",
       "\t<tr><td>2014              </td><td>Married           </td><td>34                </td><td>White             </td><td>$15000 - 19999    </td><td>Ind,near dem      </td><td>Buddhism          </td><td>Not applicable    </td><td> 1                </td></tr>\n",
       "\t<tr><td>2014              </td><td>Married           </td><td>69                </td><td>White             </td><td>Not applicable    </td><td>Ind,near dem      </td><td>Jewish            </td><td>Not applicable    </td><td> 3                </td></tr>\n",
       "\t<tr><td>2014              </td><td>Divorced          </td><td>36                </td><td>White             </td><td>Not applicable    </td><td>Independent       </td><td>None              </td><td>Not applicable    </td><td> 0                </td></tr>\n",
       "\t<tr><td>2014              </td><td>Married           </td><td>65                </td><td>White             </td><td>$25000 or more    </td><td>Not str democrat  </td><td>None              </td><td>Not applicable    </td><td> 2                </td></tr>\n",
       "\t<tr><td>2014              </td><td>Married           </td><td>48                </td><td>White             </td><td>$20000 - 24999    </td><td>Strong democrat   </td><td>Protestant        </td><td>Other             </td><td> 0                </td></tr>\n",
       "\t<tr><td>2014              </td><td>Married           </td><td>38                </td><td>White             </td><td>$10000 - 14999    </td><td>Not str democrat  </td><td>Protestant        </td><td>No denomination   </td><td> 2                </td></tr>\n",
       "\t<tr><td>2014              </td><td>Never married     </td><td>30                </td><td>White             </td><td>$4000 to 4999     </td><td>Ind,near dem      </td><td>None              </td><td>Not applicable    </td><td> 2                </td></tr>\n",
       "\t<tr><td>2014              </td><td>Married           </td><td>48                </td><td>White             </td><td>$8000 to 9999     </td><td>Not str republican</td><td>Catholic          </td><td>Not applicable    </td><td> 0                </td></tr>\n",
       "\t<tr><td>2014              </td><td>Divorced          </td><td>49                </td><td>White             </td><td>$25000 or more    </td><td>Ind,near rep      </td><td>Other             </td><td>Not applicable    </td><td> 2                </td></tr>\n",
       "\t<tr><td>2014              </td><td>Married           </td><td>54                </td><td>White             </td><td>$25000 or more    </td><td>Ind,near dem      </td><td>Protestant        </td><td>Other             </td><td>NA                </td></tr>\n",
       "\t<tr><td>2014              </td><td>Married           </td><td>49                </td><td>White             </td><td>$25000 or more    </td><td>Not str republican</td><td>Catholic          </td><td>Not applicable    </td><td>NA                </td></tr>\n",
       "\t<tr><td>2014              </td><td>Married           </td><td>53                </td><td>White             </td><td>$25000 or more    </td><td>Not str democrat  </td><td>None              </td><td>Not applicable    </td><td> 0                </td></tr>\n",
       "\t<tr><td>2014              </td><td>Married           </td><td>52                </td><td>White             </td><td>$25000 or more    </td><td>Not str democrat  </td><td>None              </td><td>Not applicable    </td><td> 1                </td></tr>\n",
       "\t<tr><td>2014              </td><td>Widowed           </td><td>82                </td><td>White             </td><td>Not applicable    </td><td>Strong democrat   </td><td>Protestant        </td><td>Other             </td><td> 2                </td></tr>\n",
       "\t<tr><td>2014              </td><td>Married           </td><td>63                </td><td>White             </td><td>Not applicable    </td><td>Ind,near dem      </td><td>No answer         </td><td>No answer         </td><td> 2                </td></tr>\n",
       "\t<tr><td>2014              </td><td>Divorced          </td><td>54                </td><td>White             </td><td>$25000 or more    </td><td>Ind,near rep      </td><td>Catholic          </td><td>Not applicable    </td><td> 3                </td></tr>\n",
       "\t<tr><td>2014              </td><td>Married           </td><td>62                </td><td>White             </td><td>$25000 or more    </td><td>Ind,near rep      </td><td>Protestant        </td><td>Other             </td><td>NA                </td></tr>\n",
       "\t<tr><td>2014              </td><td>Never married     </td><td>40                </td><td>White             </td><td>$1000 to 2999     </td><td>Not str republican</td><td>None              </td><td>Not applicable    </td><td> 2                </td></tr>\n",
       "\t<tr><td>2014              </td><td>Married           </td><td>33                </td><td>White             </td><td>Not applicable    </td><td>Independent       </td><td>Christian         </td><td>No denomination   </td><td> 0                </td></tr>\n",
       "\t<tr><td>2014              </td><td>Widowed           </td><td>75                </td><td>White             </td><td>Don't know        </td><td>Strong republican </td><td>Protestant        </td><td>Baptist-dk which  </td><td> 4                </td></tr>\n",
       "\t<tr><td>2014              </td><td>Widowed           </td><td>89                </td><td>White             </td><td>Not applicable    </td><td>Not str republican</td><td>Protestant        </td><td>United methodist  </td><td> 3                </td></tr>\n",
       "\t<tr><td>2014              </td><td>Divorced          </td><td>56                </td><td>White             </td><td>$25000 or more    </td><td>Independent       </td><td>None              </td><td>Not applicable    </td><td> 4                </td></tr>\n",
       "\t<tr><td>2014              </td><td>Never married     </td><td>24                </td><td>White             </td><td>$10000 - 14999    </td><td>Ind,near dem      </td><td>None              </td><td>Not applicable    </td><td> 4                </td></tr>\n",
       "\t<tr><td>2014              </td><td>Never married     </td><td>27                </td><td>White             </td><td>$25000 or more    </td><td>Not str democrat  </td><td>Catholic          </td><td>Not applicable    </td><td>NA                </td></tr>\n",
       "\t<tr><td>2014              </td><td>Widowed           </td><td>71                </td><td>White             </td><td>$20000 - 24999    </td><td>Ind,near rep      </td><td>Protestant        </td><td>Other             </td><td> 2                </td></tr>\n",
       "</tbody>\n",
       "</table>\n"
      ],
      "text/latex": [
       "\\begin{tabular}{r|lllllllll}\n",
       " year & marital & age & race & rincome & partyid & relig & denom & tvhours\\\\\n",
       "\\hline\n",
       "\t 2000               & Never married      & 26                 & White              & \\$8000 to 9999    & Ind,near rep       & Protestant         & Southern baptist   & 12                \\\\\n",
       "\t 2000               & Divorced           & 48                 & White              & \\$8000 to 9999    & Not str republican & Protestant         & Baptist-dk which   & NA                \\\\\n",
       "\t 2000               & Widowed            & 67                 & White              & Not applicable     & Independent        & Protestant         & No denomination    &  2                \\\\\n",
       "\t 2000               & Never married      & 39                 & White              & Not applicable     & Ind,near rep       & Orthodox-christian & Not applicable     &  4                \\\\\n",
       "\t 2000               & Divorced           & 25                 & White              & Not applicable     & Not str democrat   & None               & Not applicable     &  1                \\\\\n",
       "\t 2000               & Married            & 25                 & White              & \\$20000 - 24999   & Strong democrat    & Protestant         & Southern baptist   & NA                \\\\\n",
       "\t 2000               & Never married      & 36                 & White              & \\$25000 or more   & Not str republican & Christian          & Not applicable     &  3                \\\\\n",
       "\t 2000               & Divorced           & 44                 & White              & \\$7000 to 7999    & Ind,near dem       & Protestant         & Lutheran-mo synod  & NA                \\\\\n",
       "\t 2000               & Married            & 44                 & White              & \\$25000 or more   & Not str democrat   & Protestant         & Other              &  0                \\\\\n",
       "\t 2000               & Married            & 47                 & White              & \\$25000 or more   & Strong republican  & Protestant         & Southern baptist   &  3                \\\\\n",
       "\t 2000               & Married            & 53                 & White              & \\$25000 or more   & Not str democrat   & Protestant         & Other              &  2                \\\\\n",
       "\t 2000               & Married            & 52                 & White              & \\$25000 or more   & Ind,near rep       & None               & Not applicable     & NA                \\\\\n",
       "\t 2000               & Married            & 52                 & White              & \\$25000 or more   & Strong democrat    & Protestant         & Southern baptist   &  1                \\\\\n",
       "\t 2000               & Married            & 51                 & White              & \\$25000 or more   & Strong republican  & Protestant         & United methodist   & NA                \\\\\n",
       "\t 2000               & Divorced           & 52                 & White              & \\$25000 or more   & Ind,near dem       & None               & Not applicable     &  1                \\\\\n",
       "\t 2000               & Married            & 40                 & Black              & \\$25000 or more   & Strong democrat    & Protestant         & Baptist-dk which   &  7                \\\\\n",
       "\t 2000               & Widowed            & 77                 & White              & Not applicable     & Strong republican  & Jewish             & Not applicable     & NA                \\\\\n",
       "\t 2000               & Never married      & 44                 & White              & \\$25000 or more   & Independent        & None               & Not applicable     &  3                \\\\\n",
       "\t 2000               & Married            & 40                 & White              & \\$10000 - 14999   & Not str democrat   & Catholic           & Not applicable     &  3                \\\\\n",
       "\t 2000               & Married            & 45                 & Black              & Not applicable     & Independent        & Protestant         & United methodist   & NA                \\\\\n",
       "\t 2000               & Married            & 48                 & White              & \\$25000 or more   & Ind,near dem       & Catholic           & Not applicable     &  1                \\\\\n",
       "\t 2000               & Married            & 49                 & White              & Refused            & Strong republican  & Protestant         & United methodist   &  2                \\\\\n",
       "\t 2000               & Never married      & 19                 & White              & Not applicable     & Independent        & None               & Not applicable     &  2                \\\\\n",
       "\t 2000               & Widowed            & 54                 & White              & \\$25000 or more   & Ind,near rep       & Christian          & Not applicable     &  1                \\\\\n",
       "\t 2000               & Widowed            & 82                 & White              & Not applicable     & Not str democrat   & Protestant         & Other              &  3                \\\\\n",
       "\t 2000               & Widowed            & 83                 & White              & Not applicable     & Strong democrat    & Protestant         & Episcopal          & NA                \\\\\n",
       "\t 2000               & Widowed            & 89                 & White              & Not applicable     & Not str democrat   & Protestant         & Other lutheran     &  4                \\\\\n",
       "\t 2000               & Widowed            & 88                 & White              & Not applicable     & Strong republican  & Protestant         & Afr meth ep zion   & NA                \\\\\n",
       "\t 2000               & Divorced           & 72                 & White              & Not applicable     & Strong democrat    & Protestant         & Southern baptist   &  7                \\\\\n",
       "\t 2000               & Widowed            & 82                 & White              & Not applicable     & Independent        & Protestant         & Am bapt ch in usa  & NA                \\\\\n",
       "\t ⋮ & ⋮ & ⋮ & ⋮ & ⋮ & ⋮ & ⋮ & ⋮ & ⋮\\\\\n",
       "\t 2014               & Divorced           & 38                 & White              & \\$3000 to 3999    & Not str republican & Protestant         & Other              &  1                \\\\\n",
       "\t 2014               & Widowed            & 46                 & White              & \\$25000 or more   & Strong democrat    & None               & Not applicable     &  2                \\\\\n",
       "\t 2014               & Married            & 49                 & White              & Not applicable     & Ind,near rep       & Protestant         & Other              &  6                \\\\\n",
       "\t 2014               & Never married      & 34                 & White              & \\$25000 or more   & Independent        & Protestant         & United methodist   &  2                \\\\\n",
       "\t 2014               & Married            & 54                 & White              & Not applicable     & Independent        & Protestant         & Other              & NA                \\\\\n",
       "\t 2014               & Married            & 34                 & White              & \\$15000 - 19999   & Ind,near dem       & Buddhism           & Not applicable     &  1                \\\\\n",
       "\t 2014               & Married            & 69                 & White              & Not applicable     & Ind,near dem       & Jewish             & Not applicable     &  3                \\\\\n",
       "\t 2014               & Divorced           & 36                 & White              & Not applicable     & Independent        & None               & Not applicable     &  0                \\\\\n",
       "\t 2014               & Married            & 65                 & White              & \\$25000 or more   & Not str democrat   & None               & Not applicable     &  2                \\\\\n",
       "\t 2014               & Married            & 48                 & White              & \\$20000 - 24999   & Strong democrat    & Protestant         & Other              &  0                \\\\\n",
       "\t 2014               & Married            & 38                 & White              & \\$10000 - 14999   & Not str democrat   & Protestant         & No denomination    &  2                \\\\\n",
       "\t 2014               & Never married      & 30                 & White              & \\$4000 to 4999    & Ind,near dem       & None               & Not applicable     &  2                \\\\\n",
       "\t 2014               & Married            & 48                 & White              & \\$8000 to 9999    & Not str republican & Catholic           & Not applicable     &  0                \\\\\n",
       "\t 2014               & Divorced           & 49                 & White              & \\$25000 or more   & Ind,near rep       & Other              & Not applicable     &  2                \\\\\n",
       "\t 2014               & Married            & 54                 & White              & \\$25000 or more   & Ind,near dem       & Protestant         & Other              & NA                \\\\\n",
       "\t 2014               & Married            & 49                 & White              & \\$25000 or more   & Not str republican & Catholic           & Not applicable     & NA                \\\\\n",
       "\t 2014               & Married            & 53                 & White              & \\$25000 or more   & Not str democrat   & None               & Not applicable     &  0                \\\\\n",
       "\t 2014               & Married            & 52                 & White              & \\$25000 or more   & Not str democrat   & None               & Not applicable     &  1                \\\\\n",
       "\t 2014               & Widowed            & 82                 & White              & Not applicable     & Strong democrat    & Protestant         & Other              &  2                \\\\\n",
       "\t 2014               & Married            & 63                 & White              & Not applicable     & Ind,near dem       & No answer          & No answer          &  2                \\\\\n",
       "\t 2014               & Divorced           & 54                 & White              & \\$25000 or more   & Ind,near rep       & Catholic           & Not applicable     &  3                \\\\\n",
       "\t 2014               & Married            & 62                 & White              & \\$25000 or more   & Ind,near rep       & Protestant         & Other              & NA                \\\\\n",
       "\t 2014               & Never married      & 40                 & White              & \\$1000 to 2999    & Not str republican & None               & Not applicable     &  2                \\\\\n",
       "\t 2014               & Married            & 33                 & White              & Not applicable     & Independent        & Christian          & No denomination    &  0                \\\\\n",
       "\t 2014               & Widowed            & 75                 & White              & Don't know         & Strong republican  & Protestant         & Baptist-dk which   &  4                \\\\\n",
       "\t 2014               & Widowed            & 89                 & White              & Not applicable     & Not str republican & Protestant         & United methodist   &  3                \\\\\n",
       "\t 2014               & Divorced           & 56                 & White              & \\$25000 or more   & Independent        & None               & Not applicable     &  4                \\\\\n",
       "\t 2014               & Never married      & 24                 & White              & \\$10000 - 14999   & Ind,near dem       & None               & Not applicable     &  4                \\\\\n",
       "\t 2014               & Never married      & 27                 & White              & \\$25000 or more   & Not str democrat   & Catholic           & Not applicable     & NA                \\\\\n",
       "\t 2014               & Widowed            & 71                 & White              & \\$20000 - 24999   & Ind,near rep       & Protestant         & Other              &  2                \\\\\n",
       "\\end{tabular}\n"
      ],
      "text/markdown": [
       "\n",
       "year | marital | age | race | rincome | partyid | relig | denom | tvhours | \n",
       "|---|---|---|---|---|---|---|---|---|---|---|---|---|---|---|---|---|---|---|---|---|---|---|---|---|---|---|---|---|---|---|---|---|---|---|---|---|---|---|---|---|---|---|---|---|---|---|---|---|---|---|---|---|---|---|---|---|---|---|---|---|\n",
       "| 2000               | Never married      | 26                 | White              | $8000 to 9999      | Ind,near rep       | Protestant         | Southern baptist   | 12                 | \n",
       "| 2000               | Divorced           | 48                 | White              | $8000 to 9999      | Not str republican | Protestant         | Baptist-dk which   | NA                 | \n",
       "| 2000               | Widowed            | 67                 | White              | Not applicable     | Independent        | Protestant         | No denomination    |  2                 | \n",
       "| 2000               | Never married      | 39                 | White              | Not applicable     | Ind,near rep       | Orthodox-christian | Not applicable     |  4                 | \n",
       "| 2000               | Divorced           | 25                 | White              | Not applicable     | Not str democrat   | None               | Not applicable     |  1                 | \n",
       "| 2000               | Married            | 25                 | White              | $20000 - 24999     | Strong democrat    | Protestant         | Southern baptist   | NA                 | \n",
       "| 2000               | Never married      | 36                 | White              | $25000 or more     | Not str republican | Christian          | Not applicable     |  3                 | \n",
       "| 2000               | Divorced           | 44                 | White              | $7000 to 7999      | Ind,near dem       | Protestant         | Lutheran-mo synod  | NA                 | \n",
       "| 2000               | Married            | 44                 | White              | $25000 or more     | Not str democrat   | Protestant         | Other              |  0                 | \n",
       "| 2000               | Married            | 47                 | White              | $25000 or more     | Strong republican  | Protestant         | Southern baptist   |  3                 | \n",
       "| 2000               | Married            | 53                 | White              | $25000 or more     | Not str democrat   | Protestant         | Other              |  2                 | \n",
       "| 2000               | Married            | 52                 | White              | $25000 or more     | Ind,near rep       | None               | Not applicable     | NA                 | \n",
       "| 2000               | Married            | 52                 | White              | $25000 or more     | Strong democrat    | Protestant         | Southern baptist   |  1                 | \n",
       "| 2000               | Married            | 51                 | White              | $25000 or more     | Strong republican  | Protestant         | United methodist   | NA                 | \n",
       "| 2000               | Divorced           | 52                 | White              | $25000 or more     | Ind,near dem       | None               | Not applicable     |  1                 | \n",
       "| 2000               | Married            | 40                 | Black              | $25000 or more     | Strong democrat    | Protestant         | Baptist-dk which   |  7                 | \n",
       "| 2000               | Widowed            | 77                 | White              | Not applicable     | Strong republican  | Jewish             | Not applicable     | NA                 | \n",
       "| 2000               | Never married      | 44                 | White              | $25000 or more     | Independent        | None               | Not applicable     |  3                 | \n",
       "| 2000               | Married            | 40                 | White              | $10000 - 14999     | Not str democrat   | Catholic           | Not applicable     |  3                 | \n",
       "| 2000               | Married            | 45                 | Black              | Not applicable     | Independent        | Protestant         | United methodist   | NA                 | \n",
       "| 2000               | Married            | 48                 | White              | $25000 or more     | Ind,near dem       | Catholic           | Not applicable     |  1                 | \n",
       "| 2000               | Married            | 49                 | White              | Refused            | Strong republican  | Protestant         | United methodist   |  2                 | \n",
       "| 2000               | Never married      | 19                 | White              | Not applicable     | Independent        | None               | Not applicable     |  2                 | \n",
       "| 2000               | Widowed            | 54                 | White              | $25000 or more     | Ind,near rep       | Christian          | Not applicable     |  1                 | \n",
       "| 2000               | Widowed            | 82                 | White              | Not applicable     | Not str democrat   | Protestant         | Other              |  3                 | \n",
       "| 2000               | Widowed            | 83                 | White              | Not applicable     | Strong democrat    | Protestant         | Episcopal          | NA                 | \n",
       "| 2000               | Widowed            | 89                 | White              | Not applicable     | Not str democrat   | Protestant         | Other lutheran     |  4                 | \n",
       "| 2000               | Widowed            | 88                 | White              | Not applicable     | Strong republican  | Protestant         | Afr meth ep zion   | NA                 | \n",
       "| 2000               | Divorced           | 72                 | White              | Not applicable     | Strong democrat    | Protestant         | Southern baptist   |  7                 | \n",
       "| 2000               | Widowed            | 82                 | White              | Not applicable     | Independent        | Protestant         | Am bapt ch in usa  | NA                 | \n",
       "| ⋮ | ⋮ | ⋮ | ⋮ | ⋮ | ⋮ | ⋮ | ⋮ | ⋮ | \n",
       "| 2014               | Divorced           | 38                 | White              | $3000 to 3999      | Not str republican | Protestant         | Other              |  1                 | \n",
       "| 2014               | Widowed            | 46                 | White              | $25000 or more     | Strong democrat    | None               | Not applicable     |  2                 | \n",
       "| 2014               | Married            | 49                 | White              | Not applicable     | Ind,near rep       | Protestant         | Other              |  6                 | \n",
       "| 2014               | Never married      | 34                 | White              | $25000 or more     | Independent        | Protestant         | United methodist   |  2                 | \n",
       "| 2014               | Married            | 54                 | White              | Not applicable     | Independent        | Protestant         | Other              | NA                 | \n",
       "| 2014               | Married            | 34                 | White              | $15000 - 19999     | Ind,near dem       | Buddhism           | Not applicable     |  1                 | \n",
       "| 2014               | Married            | 69                 | White              | Not applicable     | Ind,near dem       | Jewish             | Not applicable     |  3                 | \n",
       "| 2014               | Divorced           | 36                 | White              | Not applicable     | Independent        | None               | Not applicable     |  0                 | \n",
       "| 2014               | Married            | 65                 | White              | $25000 or more     | Not str democrat   | None               | Not applicable     |  2                 | \n",
       "| 2014               | Married            | 48                 | White              | $20000 - 24999     | Strong democrat    | Protestant         | Other              |  0                 | \n",
       "| 2014               | Married            | 38                 | White              | $10000 - 14999     | Not str democrat   | Protestant         | No denomination    |  2                 | \n",
       "| 2014               | Never married      | 30                 | White              | $4000 to 4999      | Ind,near dem       | None               | Not applicable     |  2                 | \n",
       "| 2014               | Married            | 48                 | White              | $8000 to 9999      | Not str republican | Catholic           | Not applicable     |  0                 | \n",
       "| 2014               | Divorced           | 49                 | White              | $25000 or more     | Ind,near rep       | Other              | Not applicable     |  2                 | \n",
       "| 2014               | Married            | 54                 | White              | $25000 or more     | Ind,near dem       | Protestant         | Other              | NA                 | \n",
       "| 2014               | Married            | 49                 | White              | $25000 or more     | Not str republican | Catholic           | Not applicable     | NA                 | \n",
       "| 2014               | Married            | 53                 | White              | $25000 or more     | Not str democrat   | None               | Not applicable     |  0                 | \n",
       "| 2014               | Married            | 52                 | White              | $25000 or more     | Not str democrat   | None               | Not applicable     |  1                 | \n",
       "| 2014               | Widowed            | 82                 | White              | Not applicable     | Strong democrat    | Protestant         | Other              |  2                 | \n",
       "| 2014               | Married            | 63                 | White              | Not applicable     | Ind,near dem       | No answer          | No answer          |  2                 | \n",
       "| 2014               | Divorced           | 54                 | White              | $25000 or more     | Ind,near rep       | Catholic           | Not applicable     |  3                 | \n",
       "| 2014               | Married            | 62                 | White              | $25000 or more     | Ind,near rep       | Protestant         | Other              | NA                 | \n",
       "| 2014               | Never married      | 40                 | White              | $1000 to 2999      | Not str republican | None               | Not applicable     |  2                 | \n",
       "| 2014               | Married            | 33                 | White              | Not applicable     | Independent        | Christian          | No denomination    |  0                 | \n",
       "| 2014               | Widowed            | 75                 | White              | Don't know         | Strong republican  | Protestant         | Baptist-dk which   |  4                 | \n",
       "| 2014               | Widowed            | 89                 | White              | Not applicable     | Not str republican | Protestant         | United methodist   |  3                 | \n",
       "| 2014               | Divorced           | 56                 | White              | $25000 or more     | Independent        | None               | Not applicable     |  4                 | \n",
       "| 2014               | Never married      | 24                 | White              | $10000 - 14999     | Ind,near dem       | None               | Not applicable     |  4                 | \n",
       "| 2014               | Never married      | 27                 | White              | $25000 or more     | Not str democrat   | Catholic           | Not applicable     | NA                 | \n",
       "| 2014               | Widowed            | 71                 | White              | $20000 - 24999     | Ind,near rep       | Protestant         | Other              |  2                 | \n",
       "\n",
       "\n"
      ],
      "text/plain": [
       "      year marital       age race  rincome        partyid           \n",
       "1     2000 Never married 26  White $8000 to 9999  Ind,near rep      \n",
       "2     2000 Divorced      48  White $8000 to 9999  Not str republican\n",
       "3     2000 Widowed       67  White Not applicable Independent       \n",
       "4     2000 Never married 39  White Not applicable Ind,near rep      \n",
       "5     2000 Divorced      25  White Not applicable Not str democrat  \n",
       "6     2000 Married       25  White $20000 - 24999 Strong democrat   \n",
       "7     2000 Never married 36  White $25000 or more Not str republican\n",
       "8     2000 Divorced      44  White $7000 to 7999  Ind,near dem      \n",
       "9     2000 Married       44  White $25000 or more Not str democrat  \n",
       "10    2000 Married       47  White $25000 or more Strong republican \n",
       "11    2000 Married       53  White $25000 or more Not str democrat  \n",
       "12    2000 Married       52  White $25000 or more Ind,near rep      \n",
       "13    2000 Married       52  White $25000 or more Strong democrat   \n",
       "14    2000 Married       51  White $25000 or more Strong republican \n",
       "15    2000 Divorced      52  White $25000 or more Ind,near dem      \n",
       "16    2000 Married       40  Black $25000 or more Strong democrat   \n",
       "17    2000 Widowed       77  White Not applicable Strong republican \n",
       "18    2000 Never married 44  White $25000 or more Independent       \n",
       "19    2000 Married       40  White $10000 - 14999 Not str democrat  \n",
       "20    2000 Married       45  Black Not applicable Independent       \n",
       "21    2000 Married       48  White $25000 or more Ind,near dem      \n",
       "22    2000 Married       49  White Refused        Strong republican \n",
       "23    2000 Never married 19  White Not applicable Independent       \n",
       "24    2000 Widowed       54  White $25000 or more Ind,near rep      \n",
       "25    2000 Widowed       82  White Not applicable Not str democrat  \n",
       "26    2000 Widowed       83  White Not applicable Strong democrat   \n",
       "27    2000 Widowed       89  White Not applicable Not str democrat  \n",
       "28    2000 Widowed       88  White Not applicable Strong republican \n",
       "29    2000 Divorced      72  White Not applicable Strong democrat   \n",
       "30    2000 Widowed       82  White Not applicable Independent       \n",
       "⋮     ⋮    ⋮             ⋮   ⋮     ⋮              ⋮                 \n",
       "21454 2014 Divorced      38  White $3000 to 3999  Not str republican\n",
       "21455 2014 Widowed       46  White $25000 or more Strong democrat   \n",
       "21456 2014 Married       49  White Not applicable Ind,near rep      \n",
       "21457 2014 Never married 34  White $25000 or more Independent       \n",
       "21458 2014 Married       54  White Not applicable Independent       \n",
       "21459 2014 Married       34  White $15000 - 19999 Ind,near dem      \n",
       "21460 2014 Married       69  White Not applicable Ind,near dem      \n",
       "21461 2014 Divorced      36  White Not applicable Independent       \n",
       "21462 2014 Married       65  White $25000 or more Not str democrat  \n",
       "21463 2014 Married       48  White $20000 - 24999 Strong democrat   \n",
       "21464 2014 Married       38  White $10000 - 14999 Not str democrat  \n",
       "21465 2014 Never married 30  White $4000 to 4999  Ind,near dem      \n",
       "21466 2014 Married       48  White $8000 to 9999  Not str republican\n",
       "21467 2014 Divorced      49  White $25000 or more Ind,near rep      \n",
       "21468 2014 Married       54  White $25000 or more Ind,near dem      \n",
       "21469 2014 Married       49  White $25000 or more Not str republican\n",
       "21470 2014 Married       53  White $25000 or more Not str democrat  \n",
       "21471 2014 Married       52  White $25000 or more Not str democrat  \n",
       "21472 2014 Widowed       82  White Not applicable Strong democrat   \n",
       "21473 2014 Married       63  White Not applicable Ind,near dem      \n",
       "21474 2014 Divorced      54  White $25000 or more Ind,near rep      \n",
       "21475 2014 Married       62  White $25000 or more Ind,near rep      \n",
       "21476 2014 Never married 40  White $1000 to 2999  Not str republican\n",
       "21477 2014 Married       33  White Not applicable Independent       \n",
       "21478 2014 Widowed       75  White Don't know     Strong republican \n",
       "21479 2014 Widowed       89  White Not applicable Not str republican\n",
       "21480 2014 Divorced      56  White $25000 or more Independent       \n",
       "21481 2014 Never married 24  White $10000 - 14999 Ind,near dem      \n",
       "21482 2014 Never married 27  White $25000 or more Not str democrat  \n",
       "21483 2014 Widowed       71  White $20000 - 24999 Ind,near rep      \n",
       "      relig              denom             tvhours\n",
       "1     Protestant         Southern baptist  12     \n",
       "2     Protestant         Baptist-dk which  NA     \n",
       "3     Protestant         No denomination    2     \n",
       "4     Orthodox-christian Not applicable     4     \n",
       "5     None               Not applicable     1     \n",
       "6     Protestant         Southern baptist  NA     \n",
       "7     Christian          Not applicable     3     \n",
       "8     Protestant         Lutheran-mo synod NA     \n",
       "9     Protestant         Other              0     \n",
       "10    Protestant         Southern baptist   3     \n",
       "11    Protestant         Other              2     \n",
       "12    None               Not applicable    NA     \n",
       "13    Protestant         Southern baptist   1     \n",
       "14    Protestant         United methodist  NA     \n",
       "15    None               Not applicable     1     \n",
       "16    Protestant         Baptist-dk which   7     \n",
       "17    Jewish             Not applicable    NA     \n",
       "18    None               Not applicable     3     \n",
       "19    Catholic           Not applicable     3     \n",
       "20    Protestant         United methodist  NA     \n",
       "21    Catholic           Not applicable     1     \n",
       "22    Protestant         United methodist   2     \n",
       "23    None               Not applicable     2     \n",
       "24    Christian          Not applicable     1     \n",
       "25    Protestant         Other              3     \n",
       "26    Protestant         Episcopal         NA     \n",
       "27    Protestant         Other lutheran     4     \n",
       "28    Protestant         Afr meth ep zion  NA     \n",
       "29    Protestant         Southern baptist   7     \n",
       "30    Protestant         Am bapt ch in usa NA     \n",
       "⋮     ⋮                  ⋮                 ⋮      \n",
       "21454 Protestant         Other              1     \n",
       "21455 None               Not applicable     2     \n",
       "21456 Protestant         Other              6     \n",
       "21457 Protestant         United methodist   2     \n",
       "21458 Protestant         Other             NA     \n",
       "21459 Buddhism           Not applicable     1     \n",
       "21460 Jewish             Not applicable     3     \n",
       "21461 None               Not applicable     0     \n",
       "21462 None               Not applicable     2     \n",
       "21463 Protestant         Other              0     \n",
       "21464 Protestant         No denomination    2     \n",
       "21465 None               Not applicable     2     \n",
       "21466 Catholic           Not applicable     0     \n",
       "21467 Other              Not applicable     2     \n",
       "21468 Protestant         Other             NA     \n",
       "21469 Catholic           Not applicable    NA     \n",
       "21470 None               Not applicable     0     \n",
       "21471 None               Not applicable     1     \n",
       "21472 Protestant         Other              2     \n",
       "21473 No answer          No answer          2     \n",
       "21474 Catholic           Not applicable     3     \n",
       "21475 Protestant         Other             NA     \n",
       "21476 None               Not applicable     2     \n",
       "21477 Christian          No denomination    0     \n",
       "21478 Protestant         Baptist-dk which   4     \n",
       "21479 Protestant         United methodist   3     \n",
       "21480 None               Not applicable     4     \n",
       "21481 None               Not applicable     4     \n",
       "21482 Catholic           Not applicable    NA     \n",
       "21483 Protestant         Other              2     "
      ]
     },
     "metadata": {},
     "output_type": "display_data"
    }
   ],
   "source": [
    "gss_cat"
   ]
  }
 ],
 "metadata": {
  "kernelspec": {
   "display_name": "R",
   "language": "R",
   "name": "ir"
  },
  "language_info": {
   "codemirror_mode": "r",
   "file_extension": ".r",
   "mimetype": "text/x-r-source",
   "name": "R",
   "pygments_lexer": "r",
   "version": "3.4.3"
  }
 },
 "nbformat": 4,
 "nbformat_minor": 2
}
